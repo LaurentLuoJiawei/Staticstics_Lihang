{
 "cells": [
  {
   "cell_type": "markdown",
   "metadata": {},
   "source": [
    "# 使用jupyter notebook 实现决策树\n"
   ]
  },
  {
   "cell_type": "markdown",
   "metadata": {},
   "source": [
    "## 调包实现决策树"
   ]
  },
  {
   "cell_type": "markdown",
   "metadata": {},
   "source": [
    "## ID3算法，利用信息增益构建决策树\n",
    "一、特征选择使用信息增益\n",
    "二、构建树\n",
    "三、剪枝"
   ]
  },
  {
   "cell_type": "code",
   "execution_count": null,
   "metadata": {},
   "outputs": [],
   "source": [
    "\"\"\"整理需要用到的函数\n",
    "1. 数据集获取函数（）: 输出训练集和测试集合；\n",
    "2. 训练集与测试集标准化\n",
    "3. 信息增益计算函数（训练集）：\n",
    "4. 获取最大信息增益的特征函数（训练集合）：特征维度index\n",
    "5. 递归建树（训练集）：字典树\n",
    "6. 计算模型性能（字典树头节点，测试集）\n",
    "\"\"\""
   ]
  },
  {
   "cell_type": "code",
   "execution_count": null,
   "metadata": {},
   "outputs": [],
   "source": []
  },
  {
   "cell_type": "markdown",
   "metadata": {},
   "source": [
    "## C4.5 算法，利用信息增益比建树"
   ]
  },
  {
   "cell_type": "markdown",
   "metadata": {},
   "source": [
    "## CART 算法，利用基尼指数建树"
   ]
  }
 ],
 "metadata": {
  "kernelspec": {
   "display_name": "Python 3",
   "language": "python",
   "name": "python3"
  },
  "language_info": {
   "codemirror_mode": {
    "name": "ipython",
    "version": 3
   },
   "file_extension": ".py",
   "mimetype": "text/x-python",
   "name": "python",
   "nbconvert_exporter": "python",
   "pygments_lexer": "ipython3",
   "version": "3.6.10"
  }
 },
 "nbformat": 4,
 "nbformat_minor": 4
}
